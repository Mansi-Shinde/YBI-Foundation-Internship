{
  "nbformat": 4,
  "nbformat_minor": 0,
  "metadata": {
    "colab": {
      "provenance": [],
      "authorship_tag": "ABX9TyOHwgl/+cJSdlu1Y7190iJO",
      "include_colab_link": true
    },
    "kernelspec": {
      "name": "python3",
      "display_name": "Python 3"
    },
    "language_info": {
      "name": "python"
    }
  },
  "cells": [
    {
      "cell_type": "markdown",
      "metadata": {
        "id": "view-in-github",
        "colab_type": "text"
      },
      "source": [
        "<a href=\"https://colab.research.google.com/github/Mansi-Shinde/YBI-Foundation-Internship/blob/master/4bhpc.ipynb\" target=\"_parent\"><img src=\"https://colab.research.google.com/assets/colab-badge.svg\" alt=\"Open In Colab\"/></a>"
      ]
    },
    {
      "cell_type": "markdown",
      "source": [
        "Matrix multiplication"
      ],
      "metadata": {
        "id": "TyoNOq_SEibg"
      }
    },
    {
      "cell_type": "code",
      "execution_count": null,
      "metadata": {
        "colab": {
          "base_uri": "https://localhost:8080/"
        },
        "id": "7EA3WThZEfjT",
        "outputId": "0c38b974-f509-4c49-cafb-ef8b7c753816"
      },
      "outputs": [
        {
          "output_type": "stream",
          "name": "stdout",
          "text": [
            "nvcc: NVIDIA (R) Cuda compiler driver\n",
            "Copyright (c) 2005-2022 NVIDIA Corporation\n",
            "Built on Wed_Sep_21_10:33:58_PDT_2022\n",
            "Cuda compilation tools, release 11.8, V11.8.89\n",
            "Build cuda_11.8.r11.8/compiler.31833905_0\n"
          ]
        }
      ],
      "source": [
        "!nvcc --version"
      ]
    },
    {
      "cell_type": "code",
      "source": [
        "!pip install git+https://github.com/andreinechaev/nvcc4jupyter.git"
      ],
      "metadata": {
        "colab": {
          "base_uri": "https://localhost:8080/"
        },
        "id": "cNw0s2EhExOs",
        "outputId": "7c942ee0-6cfa-4d5a-80fa-d962ad4b6aac"
      },
      "execution_count": null,
      "outputs": [
        {
          "output_type": "stream",
          "name": "stdout",
          "text": [
            "Looking in indexes: https://pypi.org/simple, https://us-python.pkg.dev/colab-wheels/public/simple/\n",
            "Collecting git+https://github.com/andreinechaev/nvcc4jupyter.git\n",
            "  Cloning https://github.com/andreinechaev/nvcc4jupyter.git to /tmp/pip-req-build-l7s17yl4\n",
            "  Running command git clone --filter=blob:none --quiet https://github.com/andreinechaev/nvcc4jupyter.git /tmp/pip-req-build-l7s17yl4\n",
            "  Resolved https://github.com/andreinechaev/nvcc4jupyter.git to commit aac710a35f52bb78ab34d2e52517237941399eff\n",
            "  Preparing metadata (setup.py) ... \u001b[?25l\u001b[?25hdone\n",
            "Building wheels for collected packages: NVCCPlugin\n",
            "  Building wheel for NVCCPlugin (setup.py) ... \u001b[?25l\u001b[?25hdone\n",
            "  Created wheel for NVCCPlugin: filename=NVCCPlugin-0.0.2-py3-none-any.whl size=4287 sha256=072254a7a624484ac2fe622c9d323a8d15014edb54d8fdaea7274b4d55d20685\n",
            "  Stored in directory: /tmp/pip-ephem-wheel-cache-_jx4zo2f/wheels/a8/b9/18/23f8ef71ceb0f63297dd1903aedd067e6243a68ea756d6feea\n",
            "Successfully built NVCCPlugin\n",
            "Installing collected packages: NVCCPlugin\n",
            "Successfully installed NVCCPlugin-0.0.2\n"
          ]
        }
      ]
    },
    {
      "cell_type": "code",
      "source": [
        "%load_ext nvcc_plugin"
      ],
      "metadata": {
        "colab": {
          "base_uri": "https://localhost:8080/"
        },
        "id": "x97o3s5_E2QS",
        "outputId": "46e75391-b61a-4ac9-a649-28640627b5ef"
      },
      "execution_count": null,
      "outputs": [
        {
          "output_type": "stream",
          "name": "stdout",
          "text": [
            "created output directory at /content/src\n",
            "Out bin /content/result.out\n"
          ]
        }
      ]
    },
    {
      "cell_type": "markdown",
      "source": [
        "The code you provided is an example of matrix multiplication using CUDA in C++. It demonstrates how to perform matrix multiplication on a GPU using parallel threads and blocks.\n",
        "\n",
        "Here's a breakdown of the code:\n",
        "\n",
        "The matproduct kernel function is defined. It takes three integer pointers l, m, and n as arguments. These pointers represent the input matrices a and b, and the output matrix c. Each thread calculates the product of corresponding elements from l and m matrices and accumulates the result in the n matrix.\n",
        "\n",
        "In the main function, two input matrices a and b are defined, along with an output matrix c.\n",
        "\n",
        "Pointers d, e, and f are declared to be used for memory allocation on the GPU.\n",
        "\n",
        "The cudaMalloc function is called to allocate memory on the GPU for matrices d, e, and f.\n",
        "\n",
        "The cudaMemcpy function is used to copy the contents of matrices a and b from the CPU to the GPU memory allocated for d and e respectively.\n",
        "\n",
        "The dim3 type is used to define a two-dimensional grid structure grid with dimensions (col2, row1). This means that each block in the grid will have col2 columns and row1 rows.\n",
        "\n",
        "The matproduct kernel is launched with the grid structure and 1 thread per block using the <<< >>> syntax. The d, e, and f pointers are passed as arguments.\n",
        "\n",
        "After the kernel execution, the result matrix c is copied back from the GPU memory to the CPU memory using cudaMemcpy.\n",
        "\n",
        "The c matrix is printed to display the product of the two input matrices.\n",
        "\n",
        "The allocated GPU memory is freed using cudaFree.\n",
        "\n",
        "The program terminates.\n",
        "\n",
        "Note that in order to run CUDA code in Jupyter Notebook, you need to have a compatible NVIDIA GPU and the CUDA toolkit installed and properly configured. Additionally, you need to load the nvcc_plugin extension as mentioned earlier."
      ],
      "metadata": {
        "id": "cxIzMeaYyuze"
      }
    },
    {
      "cell_type": "code",
      "source": [
        "%%cu\n",
        "#include<stdio.h>\n",
        "#include<cuda.h>\n",
        "#define row1 2 /* Number of rows of first matrix */\n",
        "#define col1 3 /* Number of columns of first matrix */\n",
        "#define row2 3 /* Number of rows of second matrix */\n",
        "#define col2 2 /* Number of columns of second matrix */\n",
        "\n",
        "__global__ void matproduct(int *l,int *m, int *n)\n",
        "{\n",
        "    int x=blockIdx.x;\n",
        "    int y=blockIdx.y;\n",
        "    int k;\n",
        "  \n",
        "n[col2*y+x]=0;\n",
        "for(k=0;k<col1;k++)\n",
        "   {\n",
        "    n[col2*y+x]=n[col2*y+x]+l[col1*y+k]*m[col2*k+x];\n",
        "   }\n",
        "}\n",
        "\n",
        "int main()\n",
        "{\n",
        "    int a[row1][col1] = {{5,6,7},{1,2,3}};\n",
        "    int b[row2][col2] = {{1,5}, {9,10}, {11, 22}};\n",
        "    int c[row1][col2];\n",
        "    int *d,*e,*f;\n",
        "    int i,j;\n",
        "\n",
        "    /*\n",
        "    printf(\"\\n Enter elements of first matrix of size 2*3\\n\");\n",
        "    for(i=0;i<row1;i++)\n",
        "    {\n",
        "        for(j=0;j<col1;j++)\n",
        "            {\n",
        "                scanf(\"%d\",&a[i][j]);\n",
        "            }\n",
        "    }\n",
        "    printf(\"\\n Enter elements of second matrix of size 3*2\\n\");\n",
        "        for(i=0;i<row2;i++)\n",
        "        {\n",
        "            for(j=0;j<col2;j++)\n",
        "                {\n",
        "                    scanf(\"%d\",&b[i][j]);\n",
        "                }\n",
        "        }\n",
        "\n",
        "    */\n",
        "    cudaMalloc((void **)&d,row1*col1*sizeof(int));\n",
        "    cudaMalloc((void **)&e,row2*col2*sizeof(int));\n",
        "    cudaMalloc((void **)&f,row1*col2*sizeof(int));\n",
        "\n",
        " cudaMemcpy(d,a,row1*col1*sizeof(int),cudaMemcpyHostToDevice);\n",
        " cudaMemcpy(e,b,row2*col2*sizeof(int),cudaMemcpyHostToDevice);\n",
        "\n",
        "dim3 grid(col2,row1);\n",
        "/* Here we are defining two dimensional Grid(collection of blocks) structure. Syntax is dim3 grid(no. of columns,no. of rows) */\n",
        "\n",
        "    matproduct<<<grid,1>>>(d,e,f);\n",
        "\n",
        " cudaMemcpy(c,f,row1*col2*sizeof(int),cudaMemcpyDeviceToHost);\n",
        "    printf(\"\\nProduct of two matrices:\\n \");\n",
        "    for(int i=0;i<row1;i++)\n",
        "    {\n",
        "        for(int j=0;j<col2;j++)\n",
        "        {\n",
        "              printf(\"%d\\t\",c[i][j]);\n",
        "        }\n",
        "        printf(\"\\n\");\n",
        "    }\n",
        "\n",
        "    cudaFree(d);\n",
        "    cudaFree(e);\n",
        "    cudaFree(f);\n",
        "\n",
        "    return 0;\n",
        "}"
      ],
      "metadata": {
        "colab": {
          "base_uri": "https://localhost:8080/"
        },
        "id": "thVhPY_3E8mC",
        "outputId": "fb8a9eaa-2d85-40b9-a817-ca5d4f67aa64"
      },
      "execution_count": null,
      "outputs": [
        {
          "output_type": "stream",
          "name": "stdout",
          "text": [
            "\n",
            "Product of two matrices:\n",
            " 72704\t0\t\n",
            "-303152110\t22026\t\n",
            "\n"
          ]
        }
      ]
    }
  ]
}