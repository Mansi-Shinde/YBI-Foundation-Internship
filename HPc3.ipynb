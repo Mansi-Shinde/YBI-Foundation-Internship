{
  "nbformat": 4,
  "nbformat_minor": 0,
  "metadata": {
    "colab": {
      "provenance": [],
      "authorship_tag": "ABX9TyOKb4dVn6hC5KaPlSPx8O2t",
      "include_colab_link": true
    },
    "kernelspec": {
      "name": "python3",
      "display_name": "Python 3"
    },
    "language_info": {
      "name": "python"
    }
  },
  "cells": [
    {
      "cell_type": "markdown",
      "metadata": {
        "id": "view-in-github",
        "colab_type": "text"
      },
      "source": [
        "<a href=\"https://colab.research.google.com/github/Mansi-Shinde/YBI-Foundation-Internship/blob/master/HPc3.ipynb\" target=\"_parent\"><img src=\"https://colab.research.google.com/assets/colab-badge.svg\" alt=\"Open In Colab\"/></a>"
      ]
    },
    {
      "cell_type": "markdown",
      "source": [
        "Min, max"
      ],
      "metadata": {
        "id": "E974R1aTBpuM"
      }
    },
    {
      "cell_type": "markdown",
      "source": [
        "In the main function:\n",
        "\n",
        "The user is prompted to enter the total number of elements in the array, and the individual elements are inputted.\n",
        "\n",
        "The array and its size are passed to four different functions: min_reduction, max_reduction, sum_reduction, and average_reduction.\n",
        "\n",
        "The reduction operations are performed using OpenMP directives:\n",
        "\n",
        "The min_reduction function finds the minimum value in the array. It initializes a min_value variable with INT_MAX (maximum value for an integer). The #pragma omp parallel for reduction(min: min_value) directive indicates that each thread should find the minimum value within its assigned portion of the array, and the final minimum values from each thread are combined using the min reduction operation.\n",
        "\n",
        "The max_reduction function finds the maximum value in the array. It initializes a max_value variable with INT_MIN (minimum value for an integer). The #pragma omp parallel for reduction(max: max_value) directive indicates that each thread should find the maximum value within its assigned portion of the array, and the final maximum values from each thread are combined using the max reduction operation.\n",
        "\n",
        "The sum_reduction function calculates the sum of all elements in the array. It initializes a sum variable with 0. The #pragma omp parallel for reduction(+: sum) directive indicates that each thread should compute the sum of its assigned portion of the array, and the final sums from each thread are combined using the + reduction operation.\n",
        "\n",
        "The average_reduction function calculates the average of all elements in the array. It uses the same reduction approach as the sum_reduction function to compute the sum, and then divides the sum by n-1 (assuming n > 1) to get the average.\n",
        "\n",
        "After performing the reductions, the minimum value, maximum value, sum, and average are printed to the console.\n",
        "\n",
        "Note: The commented out #include <vector> line suggests that the code was modified from a version that potentially used vectors instead of arrays, but the vector-related code was removed."
      ],
      "metadata": {
        "id": "lvBxJVxAxXWO"
      }
    },
    {
      "cell_type": "code",
      "execution_count": null,
      "metadata": {
        "id": "RihCM6P6BEIJ"
      },
      "outputs": [],
      "source": [
        "#include <iostream>\n",
        "//#include <vector>\n",
        "#include <omp.h>\n",
        "#include <climits>\n",
        "using namespace std;\n",
        "void min_reduction(int arr[], int n) {\n",
        "  int min_value = INT_MAX;\n",
        "  #pragma omp parallel for reduction(min: min_value)\n",
        "  for (int i = 0; i < n; i++) {\n",
        "\tif (arr[i] < min_value) {\n",
        "  \tmin_value = arr[i];\n",
        "\t}\n",
        "  }\n",
        "  cout << \"Minimum value: \" << min_value << endl;\n",
        "}\n",
        "\n",
        "void max_reduction(int arr[], int n) {\n",
        "  int max_value = INT_MIN;\n",
        "  #pragma omp parallel for reduction(max: max_value)\n",
        "  for (int i = 0; i < n; i++) {\n",
        "\tif (arr[i] > max_value) {\n",
        "  \tmax_value = arr[i];\n",
        "\t}\n",
        "  }\n",
        "  cout << \"Maximum value: \" << max_value << endl;\n",
        "}\n",
        "\n",
        "void sum_reduction(int arr[], int n) {\n",
        "  int sum = 0;\n",
        "   #pragma omp parallel for reduction(+: sum)\n",
        "   for (int i = 0; i < n; i++) {\n",
        "\tsum += arr[i];\n",
        "  }\n",
        "  cout << \"Sum: \" << sum << endl;\n",
        "}\n",
        "\n",
        "void average_reduction(int arr[], int n) {\n",
        "  int sum = 0;\n",
        "  #pragma omp parallel for reduction(+: sum)\n",
        "  for (int i = 0; i < n; i++) {\n",
        "\tsum += arr[i];\n",
        "  }\n",
        "  cout << \"Average: \" << (double)sum / (n-1) << endl;\n",
        "}\n",
        "\n",
        "int main() {\n",
        "    int *arr,n;\n",
        "    cout<<\"\\n enter total no of elements=>\";\n",
        "    cin>>n;\n",
        "    arr=new int[n];\n",
        "    cout<<\"\\n enter elements=>\";\n",
        "    for(int i=0;i<n;i++)\n",
        "    {\n",
        "   \t cin>>arr[i];\n",
        "    }\n",
        "\n",
        "//   int arr[] = {5, 2, 9, 1, 7, 6, 8, 3, 4};\n",
        "//   int n = size(arr);\n",
        "\n",
        "  min_reduction(arr, n);\n",
        "  max_reduction(arr, n);\n",
        "  sum_reduction(arr, n);\n",
        "  average_reduction(arr, n);\n",
        "}\n"
      ]
    }
  ]
}